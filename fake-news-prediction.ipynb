{
 "cells": [
  {
   "cell_type": "code",
   "execution_count": 1,
   "id": "962b0d97",
   "metadata": {
    "_cell_guid": "b1076dfc-b9ad-4769-8c92-a6c4dae69d19",
    "_uuid": "8f2839f25d086af736a60e9eeb907d3b93b6e0e5",
    "execution": {
     "iopub.execute_input": "2024-06-26T06:11:18.955384Z",
     "iopub.status.busy": "2024-06-26T06:11:18.954467Z",
     "iopub.status.idle": "2024-06-26T06:11:19.755000Z",
     "shell.execute_reply": "2024-06-26T06:11:19.753699Z"
    },
    "papermill": {
     "duration": 0.810741,
     "end_time": "2024-06-26T06:11:19.758019",
     "exception": false,
     "start_time": "2024-06-26T06:11:18.947278",
     "status": "completed"
    },
    "tags": []
   },
   "outputs": [
    {
     "name": "stdout",
     "output_type": "stream",
     "text": [
      "/kaggle/input/fake-news/news.csv\n"
     ]
    }
   ],
   "source": [
    "# This Python 3 environment comes with many helpful analytics libraries installed\n",
    "# It is defined by the kaggle/python Docker image: https://github.com/kaggle/docker-python\n",
    "# For example, here's several helpful packages to load\n",
    "\n",
    "import numpy as np # linear algebra\n",
    "import pandas as pd # data processing, CSV file I/O (e.g. pd.read_csv)\n",
    "\n",
    "# Input data files are available in the read-only \"../input/\" directory\n",
    "# For example, running this (by clicking run or pressing Shift+Enter) will list all files under the input directory\n",
    "\n",
    "import os\n",
    "for dirname, _, filenames in os.walk('/kaggle/input'):\n",
    "    for filename in filenames:\n",
    "        print(os.path.join(dirname, filename))\n",
    "\n",
    "# You can write up to 20GB to the current directory (/kaggle/working/) that gets preserved as output when you create a version using \"Save & Run All\" \n",
    "# You can also write temporary files to /kaggle/temp/, but they won't be saved outside of the current session"
   ]
  },
  {
   "cell_type": "markdown",
   "id": "ebb5ab4f",
   "metadata": {
    "papermill": {
     "duration": 0.005571,
     "end_time": "2024-06-26T06:11:19.769598",
     "exception": false,
     "start_time": "2024-06-26T06:11:19.764027",
     "status": "completed"
    },
    "tags": []
   },
   "source": [
    "# Import"
   ]
  },
  {
   "cell_type": "code",
   "execution_count": 2,
   "id": "b196646b",
   "metadata": {
    "execution": {
     "iopub.execute_input": "2024-06-26T06:11:19.782711Z",
     "iopub.status.busy": "2024-06-26T06:11:19.781775Z",
     "iopub.status.idle": "2024-06-26T06:11:21.498410Z",
     "shell.execute_reply": "2024-06-26T06:11:21.497360Z"
    },
    "papermill": {
     "duration": 1.725772,
     "end_time": "2024-06-26T06:11:21.500925",
     "exception": false,
     "start_time": "2024-06-26T06:11:19.775153",
     "status": "completed"
    },
    "tags": []
   },
   "outputs": [],
   "source": [
    "import pandas as pd\n",
    "import numpy as np\n",
    "from nltk.corpus import stopwords\n",
    "from nltk.stem.porter import PorterStemmer\n",
    "import re\n",
    "from sklearn.feature_extraction.text import TfidfVectorizer\n",
    "from sklearn.model_selection import train_test_split\n",
    "from sklearn.linear_model import LogisticRegression\n",
    "from sklearn.metrics import accuracy_score"
   ]
  },
  {
   "cell_type": "code",
   "execution_count": 3,
   "id": "c49921b8",
   "metadata": {
    "execution": {
     "iopub.execute_input": "2024-06-26T06:11:21.513370Z",
     "iopub.status.busy": "2024-06-26T06:11:21.513005Z",
     "iopub.status.idle": "2024-06-26T06:11:21.579245Z",
     "shell.execute_reply": "2024-06-26T06:11:21.578158Z"
    },
    "papermill": {
     "duration": 0.074845,
     "end_time": "2024-06-26T06:11:21.581437",
     "exception": false,
     "start_time": "2024-06-26T06:11:21.506592",
     "status": "completed"
    },
    "tags": []
   },
   "outputs": [
    {
     "name": "stdout",
     "output_type": "stream",
     "text": [
      "[nltk_data] Downloading package stopwords to /usr/share/nltk_data...\n",
      "[nltk_data]   Package stopwords is already up-to-date!\n"
     ]
    },
    {
     "data": {
      "text/plain": [
       "True"
      ]
     },
     "execution_count": 3,
     "metadata": {},
     "output_type": "execute_result"
    }
   ],
   "source": [
    "import nltk\n",
    "nltk.download('stopwords')"
   ]
  },
  {
   "cell_type": "code",
   "execution_count": 4,
   "id": "7e1b286d",
   "metadata": {
    "execution": {
     "iopub.execute_input": "2024-06-26T06:11:21.594280Z",
     "iopub.status.busy": "2024-06-26T06:11:21.593464Z",
     "iopub.status.idle": "2024-06-26T06:11:21.606462Z",
     "shell.execute_reply": "2024-06-26T06:11:21.605399Z"
    },
    "papermill": {
     "duration": 0.021594,
     "end_time": "2024-06-26T06:11:21.608519",
     "exception": false,
     "start_time": "2024-06-26T06:11:21.586925",
     "status": "completed"
    },
    "tags": []
   },
   "outputs": [
    {
     "name": "stdout",
     "output_type": "stream",
     "text": [
      "['i', 'me', 'my', 'myself', 'we', 'our', 'ours', 'ourselves', 'you', \"you're\", \"you've\", \"you'll\", \"you'd\", 'your', 'yours', 'yourself', 'yourselves', 'he', 'him', 'his', 'himself', 'she', \"she's\", 'her', 'hers', 'herself', 'it', \"it's\", 'its', 'itself', 'they', 'them', 'their', 'theirs', 'themselves', 'what', 'which', 'who', 'whom', 'this', 'that', \"that'll\", 'these', 'those', 'am', 'is', 'are', 'was', 'were', 'be', 'been', 'being', 'have', 'has', 'had', 'having', 'do', 'does', 'did', 'doing', 'a', 'an', 'the', 'and', 'but', 'if', 'or', 'because', 'as', 'until', 'while', 'of', 'at', 'by', 'for', 'with', 'about', 'against', 'between', 'into', 'through', 'during', 'before', 'after', 'above', 'below', 'to', 'from', 'up', 'down', 'in', 'out', 'on', 'off', 'over', 'under', 'again', 'further', 'then', 'once', 'here', 'there', 'when', 'where', 'why', 'how', 'all', 'any', 'both', 'each', 'few', 'more', 'most', 'other', 'some', 'such', 'no', 'nor', 'not', 'only', 'own', 'same', 'so', 'than', 'too', 'very', 's', 't', 'can', 'will', 'just', 'don', \"don't\", 'should', \"should've\", 'now', 'd', 'll', 'm', 'o', 're', 've', 'y', 'ain', 'aren', \"aren't\", 'couldn', \"couldn't\", 'didn', \"didn't\", 'doesn', \"doesn't\", 'hadn', \"hadn't\", 'hasn', \"hasn't\", 'haven', \"haven't\", 'isn', \"isn't\", 'ma', 'mightn', \"mightn't\", 'mustn', \"mustn't\", 'needn', \"needn't\", 'shan', \"shan't\", 'shouldn', \"shouldn't\", 'wasn', \"wasn't\", 'weren', \"weren't\", 'won', \"won't\", 'wouldn', \"wouldn't\"]\n"
     ]
    }
   ],
   "source": [
    "print(stopwords.words('english'))"
   ]
  },
  {
   "cell_type": "markdown",
   "id": "bb527049",
   "metadata": {
    "papermill": {
     "duration": 0.00524,
     "end_time": "2024-06-26T06:11:21.619374",
     "exception": false,
     "start_time": "2024-06-26T06:11:21.614134",
     "status": "completed"
    },
    "tags": []
   },
   "source": [
    "# Loading Data"
   ]
  },
  {
   "cell_type": "code",
   "execution_count": 5,
   "id": "0d9a847b",
   "metadata": {
    "execution": {
     "iopub.execute_input": "2024-06-26T06:11:21.632556Z",
     "iopub.status.busy": "2024-06-26T06:11:21.631613Z",
     "iopub.status.idle": "2024-06-26T06:11:22.515406Z",
     "shell.execute_reply": "2024-06-26T06:11:22.514351Z"
    },
    "papermill": {
     "duration": 0.892978,
     "end_time": "2024-06-26T06:11:22.517989",
     "exception": false,
     "start_time": "2024-06-26T06:11:21.625011",
     "status": "completed"
    },
    "tags": []
   },
   "outputs": [],
   "source": [
    "df = pd.read_csv('/kaggle/input/fake-news/news.csv')"
   ]
  },
  {
   "cell_type": "code",
   "execution_count": 6,
   "id": "cacec87d",
   "metadata": {
    "execution": {
     "iopub.execute_input": "2024-06-26T06:11:22.530653Z",
     "iopub.status.busy": "2024-06-26T06:11:22.530312Z",
     "iopub.status.idle": "2024-06-26T06:11:22.553240Z",
     "shell.execute_reply": "2024-06-26T06:11:22.552253Z"
    },
    "papermill": {
     "duration": 0.031649,
     "end_time": "2024-06-26T06:11:22.555292",
     "exception": false,
     "start_time": "2024-06-26T06:11:22.523643",
     "status": "completed"
    },
    "tags": []
   },
   "outputs": [
    {
     "data": {
      "text/html": [
       "<div>\n",
       "<style scoped>\n",
       "    .dataframe tbody tr th:only-of-type {\n",
       "        vertical-align: middle;\n",
       "    }\n",
       "\n",
       "    .dataframe tbody tr th {\n",
       "        vertical-align: top;\n",
       "    }\n",
       "\n",
       "    .dataframe thead th {\n",
       "        text-align: right;\n",
       "    }\n",
       "</style>\n",
       "<table border=\"1\" class=\"dataframe\">\n",
       "  <thead>\n",
       "    <tr style=\"text-align: right;\">\n",
       "      <th></th>\n",
       "      <th>Unnamed: 0</th>\n",
       "      <th>title</th>\n",
       "      <th>text</th>\n",
       "      <th>label</th>\n",
       "    </tr>\n",
       "  </thead>\n",
       "  <tbody>\n",
       "    <tr>\n",
       "      <th>0</th>\n",
       "      <td>8476</td>\n",
       "      <td>You Can Smell Hillary’s Fear</td>\n",
       "      <td>Daniel Greenfield, a Shillman Journalism Fello...</td>\n",
       "      <td>FAKE</td>\n",
       "    </tr>\n",
       "    <tr>\n",
       "      <th>1</th>\n",
       "      <td>10294</td>\n",
       "      <td>Watch The Exact Moment Paul Ryan Committed Pol...</td>\n",
       "      <td>Google Pinterest Digg Linkedin Reddit Stumbleu...</td>\n",
       "      <td>FAKE</td>\n",
       "    </tr>\n",
       "    <tr>\n",
       "      <th>2</th>\n",
       "      <td>3608</td>\n",
       "      <td>Kerry to go to Paris in gesture of sympathy</td>\n",
       "      <td>U.S. Secretary of State John F. Kerry said Mon...</td>\n",
       "      <td>REAL</td>\n",
       "    </tr>\n",
       "    <tr>\n",
       "      <th>3</th>\n",
       "      <td>10142</td>\n",
       "      <td>Bernie supporters on Twitter erupt in anger ag...</td>\n",
       "      <td>— Kaydee King (@KaydeeKing) November 9, 2016 T...</td>\n",
       "      <td>FAKE</td>\n",
       "    </tr>\n",
       "    <tr>\n",
       "      <th>4</th>\n",
       "      <td>875</td>\n",
       "      <td>The Battle of New York: Why This Primary Matters</td>\n",
       "      <td>It's primary day in New York and front-runners...</td>\n",
       "      <td>REAL</td>\n",
       "    </tr>\n",
       "    <tr>\n",
       "      <th>...</th>\n",
       "      <td>...</td>\n",
       "      <td>...</td>\n",
       "      <td>...</td>\n",
       "      <td>...</td>\n",
       "    </tr>\n",
       "    <tr>\n",
       "      <th>6330</th>\n",
       "      <td>4490</td>\n",
       "      <td>State Department says it can't find emails fro...</td>\n",
       "      <td>The State Department told the Republican Natio...</td>\n",
       "      <td>REAL</td>\n",
       "    </tr>\n",
       "    <tr>\n",
       "      <th>6331</th>\n",
       "      <td>8062</td>\n",
       "      <td>The ‘P’ in PBS Should Stand for ‘Plutocratic’ ...</td>\n",
       "      <td>The ‘P’ in PBS Should Stand for ‘Plutocratic’ ...</td>\n",
       "      <td>FAKE</td>\n",
       "    </tr>\n",
       "    <tr>\n",
       "      <th>6332</th>\n",
       "      <td>8622</td>\n",
       "      <td>Anti-Trump Protesters Are Tools of the Oligarc...</td>\n",
       "      <td>Anti-Trump Protesters Are Tools of the Oligar...</td>\n",
       "      <td>FAKE</td>\n",
       "    </tr>\n",
       "    <tr>\n",
       "      <th>6333</th>\n",
       "      <td>4021</td>\n",
       "      <td>In Ethiopia, Obama seeks progress on peace, se...</td>\n",
       "      <td>ADDIS ABABA, Ethiopia —President Obama convene...</td>\n",
       "      <td>REAL</td>\n",
       "    </tr>\n",
       "    <tr>\n",
       "      <th>6334</th>\n",
       "      <td>4330</td>\n",
       "      <td>Jeb Bush Is Suddenly Attacking Trump. Here's W...</td>\n",
       "      <td>Jeb Bush Is Suddenly Attacking Trump. Here's W...</td>\n",
       "      <td>REAL</td>\n",
       "    </tr>\n",
       "  </tbody>\n",
       "</table>\n",
       "<p>6335 rows × 4 columns</p>\n",
       "</div>"
      ],
      "text/plain": [
       "      Unnamed: 0                                              title  \\\n",
       "0           8476                       You Can Smell Hillary’s Fear   \n",
       "1          10294  Watch The Exact Moment Paul Ryan Committed Pol...   \n",
       "2           3608        Kerry to go to Paris in gesture of sympathy   \n",
       "3          10142  Bernie supporters on Twitter erupt in anger ag...   \n",
       "4            875   The Battle of New York: Why This Primary Matters   \n",
       "...          ...                                                ...   \n",
       "6330        4490  State Department says it can't find emails fro...   \n",
       "6331        8062  The ‘P’ in PBS Should Stand for ‘Plutocratic’ ...   \n",
       "6332        8622  Anti-Trump Protesters Are Tools of the Oligarc...   \n",
       "6333        4021  In Ethiopia, Obama seeks progress on peace, se...   \n",
       "6334        4330  Jeb Bush Is Suddenly Attacking Trump. Here's W...   \n",
       "\n",
       "                                                   text label  \n",
       "0     Daniel Greenfield, a Shillman Journalism Fello...  FAKE  \n",
       "1     Google Pinterest Digg Linkedin Reddit Stumbleu...  FAKE  \n",
       "2     U.S. Secretary of State John F. Kerry said Mon...  REAL  \n",
       "3     — Kaydee King (@KaydeeKing) November 9, 2016 T...  FAKE  \n",
       "4     It's primary day in New York and front-runners...  REAL  \n",
       "...                                                 ...   ...  \n",
       "6330  The State Department told the Republican Natio...  REAL  \n",
       "6331  The ‘P’ in PBS Should Stand for ‘Plutocratic’ ...  FAKE  \n",
       "6332   Anti-Trump Protesters Are Tools of the Oligar...  FAKE  \n",
       "6333  ADDIS ABABA, Ethiopia —President Obama convene...  REAL  \n",
       "6334  Jeb Bush Is Suddenly Attacking Trump. Here's W...  REAL  \n",
       "\n",
       "[6335 rows x 4 columns]"
      ]
     },
     "execution_count": 6,
     "metadata": {},
     "output_type": "execute_result"
    }
   ],
   "source": [
    "df"
   ]
  },
  {
   "cell_type": "code",
   "execution_count": 7,
   "id": "d29e7d88",
   "metadata": {
    "execution": {
     "iopub.execute_input": "2024-06-26T06:11:22.568376Z",
     "iopub.status.busy": "2024-06-26T06:11:22.568032Z",
     "iopub.status.idle": "2024-06-26T06:11:22.578454Z",
     "shell.execute_reply": "2024-06-26T06:11:22.577388Z"
    },
    "papermill": {
     "duration": 0.019354,
     "end_time": "2024-06-26T06:11:22.580496",
     "exception": false,
     "start_time": "2024-06-26T06:11:22.561142",
     "status": "completed"
    },
    "tags": []
   },
   "outputs": [
    {
     "data": {
      "text/html": [
       "<div>\n",
       "<style scoped>\n",
       "    .dataframe tbody tr th:only-of-type {\n",
       "        vertical-align: middle;\n",
       "    }\n",
       "\n",
       "    .dataframe tbody tr th {\n",
       "        vertical-align: top;\n",
       "    }\n",
       "\n",
       "    .dataframe thead th {\n",
       "        text-align: right;\n",
       "    }\n",
       "</style>\n",
       "<table border=\"1\" class=\"dataframe\">\n",
       "  <thead>\n",
       "    <tr style=\"text-align: right;\">\n",
       "      <th></th>\n",
       "      <th>Unnamed: 0</th>\n",
       "      <th>title</th>\n",
       "      <th>text</th>\n",
       "      <th>label</th>\n",
       "    </tr>\n",
       "  </thead>\n",
       "  <tbody>\n",
       "    <tr>\n",
       "      <th>0</th>\n",
       "      <td>8476</td>\n",
       "      <td>You Can Smell Hillary’s Fear</td>\n",
       "      <td>Daniel Greenfield, a Shillman Journalism Fello...</td>\n",
       "      <td>FAKE</td>\n",
       "    </tr>\n",
       "    <tr>\n",
       "      <th>1</th>\n",
       "      <td>10294</td>\n",
       "      <td>Watch The Exact Moment Paul Ryan Committed Pol...</td>\n",
       "      <td>Google Pinterest Digg Linkedin Reddit Stumbleu...</td>\n",
       "      <td>FAKE</td>\n",
       "    </tr>\n",
       "    <tr>\n",
       "      <th>2</th>\n",
       "      <td>3608</td>\n",
       "      <td>Kerry to go to Paris in gesture of sympathy</td>\n",
       "      <td>U.S. Secretary of State John F. Kerry said Mon...</td>\n",
       "      <td>REAL</td>\n",
       "    </tr>\n",
       "    <tr>\n",
       "      <th>3</th>\n",
       "      <td>10142</td>\n",
       "      <td>Bernie supporters on Twitter erupt in anger ag...</td>\n",
       "      <td>— Kaydee King (@KaydeeKing) November 9, 2016 T...</td>\n",
       "      <td>FAKE</td>\n",
       "    </tr>\n",
       "    <tr>\n",
       "      <th>4</th>\n",
       "      <td>875</td>\n",
       "      <td>The Battle of New York: Why This Primary Matters</td>\n",
       "      <td>It's primary day in New York and front-runners...</td>\n",
       "      <td>REAL</td>\n",
       "    </tr>\n",
       "  </tbody>\n",
       "</table>\n",
       "</div>"
      ],
      "text/plain": [
       "   Unnamed: 0                                              title  \\\n",
       "0        8476                       You Can Smell Hillary’s Fear   \n",
       "1       10294  Watch The Exact Moment Paul Ryan Committed Pol...   \n",
       "2        3608        Kerry to go to Paris in gesture of sympathy   \n",
       "3       10142  Bernie supporters on Twitter erupt in anger ag...   \n",
       "4         875   The Battle of New York: Why This Primary Matters   \n",
       "\n",
       "                                                text label  \n",
       "0  Daniel Greenfield, a Shillman Journalism Fello...  FAKE  \n",
       "1  Google Pinterest Digg Linkedin Reddit Stumbleu...  FAKE  \n",
       "2  U.S. Secretary of State John F. Kerry said Mon...  REAL  \n",
       "3  — Kaydee King (@KaydeeKing) November 9, 2016 T...  FAKE  \n",
       "4  It's primary day in New York and front-runners...  REAL  "
      ]
     },
     "execution_count": 7,
     "metadata": {},
     "output_type": "execute_result"
    }
   ],
   "source": [
    "df.head()"
   ]
  },
  {
   "cell_type": "code",
   "execution_count": 8,
   "id": "f205a889",
   "metadata": {
    "execution": {
     "iopub.execute_input": "2024-06-26T06:11:22.593985Z",
     "iopub.status.busy": "2024-06-26T06:11:22.593639Z",
     "iopub.status.idle": "2024-06-26T06:11:22.615174Z",
     "shell.execute_reply": "2024-06-26T06:11:22.614072Z"
    },
    "papermill": {
     "duration": 0.030903,
     "end_time": "2024-06-26T06:11:22.617428",
     "exception": false,
     "start_time": "2024-06-26T06:11:22.586525",
     "status": "completed"
    },
    "tags": []
   },
   "outputs": [
    {
     "name": "stdout",
     "output_type": "stream",
     "text": [
      "<class 'pandas.core.frame.DataFrame'>\n",
      "RangeIndex: 6335 entries, 0 to 6334\n",
      "Data columns (total 4 columns):\n",
      " #   Column      Non-Null Count  Dtype \n",
      "---  ------      --------------  ----- \n",
      " 0   Unnamed: 0  6335 non-null   int64 \n",
      " 1   title       6335 non-null   object\n",
      " 2   text        6335 non-null   object\n",
      " 3   label       6335 non-null   object\n",
      "dtypes: int64(1), object(3)\n",
      "memory usage: 198.1+ KB\n"
     ]
    }
   ],
   "source": [
    "df.info()"
   ]
  },
  {
   "cell_type": "code",
   "execution_count": 9,
   "id": "20223ce3",
   "metadata": {
    "execution": {
     "iopub.execute_input": "2024-06-26T06:11:22.631657Z",
     "iopub.status.busy": "2024-06-26T06:11:22.631280Z",
     "iopub.status.idle": "2024-06-26T06:11:22.647270Z",
     "shell.execute_reply": "2024-06-26T06:11:22.646304Z"
    },
    "papermill": {
     "duration": 0.025641,
     "end_time": "2024-06-26T06:11:22.649297",
     "exception": false,
     "start_time": "2024-06-26T06:11:22.623656",
     "status": "completed"
    },
    "tags": []
   },
   "outputs": [
    {
     "data": {
      "text/html": [
       "<div>\n",
       "<style scoped>\n",
       "    .dataframe tbody tr th:only-of-type {\n",
       "        vertical-align: middle;\n",
       "    }\n",
       "\n",
       "    .dataframe tbody tr th {\n",
       "        vertical-align: top;\n",
       "    }\n",
       "\n",
       "    .dataframe thead th {\n",
       "        text-align: right;\n",
       "    }\n",
       "</style>\n",
       "<table border=\"1\" class=\"dataframe\">\n",
       "  <thead>\n",
       "    <tr style=\"text-align: right;\">\n",
       "      <th></th>\n",
       "      <th>Unnamed: 0</th>\n",
       "    </tr>\n",
       "  </thead>\n",
       "  <tbody>\n",
       "    <tr>\n",
       "      <th>count</th>\n",
       "      <td>6335.000000</td>\n",
       "    </tr>\n",
       "    <tr>\n",
       "      <th>mean</th>\n",
       "      <td>5280.415627</td>\n",
       "    </tr>\n",
       "    <tr>\n",
       "      <th>std</th>\n",
       "      <td>3038.503953</td>\n",
       "    </tr>\n",
       "    <tr>\n",
       "      <th>min</th>\n",
       "      <td>2.000000</td>\n",
       "    </tr>\n",
       "    <tr>\n",
       "      <th>25%</th>\n",
       "      <td>2674.500000</td>\n",
       "    </tr>\n",
       "    <tr>\n",
       "      <th>50%</th>\n",
       "      <td>5271.000000</td>\n",
       "    </tr>\n",
       "    <tr>\n",
       "      <th>75%</th>\n",
       "      <td>7901.000000</td>\n",
       "    </tr>\n",
       "    <tr>\n",
       "      <th>max</th>\n",
       "      <td>10557.000000</td>\n",
       "    </tr>\n",
       "  </tbody>\n",
       "</table>\n",
       "</div>"
      ],
      "text/plain": [
       "         Unnamed: 0\n",
       "count   6335.000000\n",
       "mean    5280.415627\n",
       "std     3038.503953\n",
       "min        2.000000\n",
       "25%     2674.500000\n",
       "50%     5271.000000\n",
       "75%     7901.000000\n",
       "max    10557.000000"
      ]
     },
     "execution_count": 9,
     "metadata": {},
     "output_type": "execute_result"
    }
   ],
   "source": [
    "df.describe()"
   ]
  },
  {
   "cell_type": "code",
   "execution_count": 10,
   "id": "bb725a9c",
   "metadata": {
    "execution": {
     "iopub.execute_input": "2024-06-26T06:11:22.663896Z",
     "iopub.status.busy": "2024-06-26T06:11:22.663037Z",
     "iopub.status.idle": "2024-06-26T06:11:22.678640Z",
     "shell.execute_reply": "2024-06-26T06:11:22.677501Z"
    },
    "papermill": {
     "duration": 0.025333,
     "end_time": "2024-06-26T06:11:22.680934",
     "exception": false,
     "start_time": "2024-06-26T06:11:22.655601",
     "status": "completed"
    },
    "tags": []
   },
   "outputs": [
    {
     "data": {
      "text/html": [
       "<div>\n",
       "<style scoped>\n",
       "    .dataframe tbody tr th:only-of-type {\n",
       "        vertical-align: middle;\n",
       "    }\n",
       "\n",
       "    .dataframe tbody tr th {\n",
       "        vertical-align: top;\n",
       "    }\n",
       "\n",
       "    .dataframe thead th {\n",
       "        text-align: right;\n",
       "    }\n",
       "</style>\n",
       "<table border=\"1\" class=\"dataframe\">\n",
       "  <thead>\n",
       "    <tr style=\"text-align: right;\">\n",
       "      <th></th>\n",
       "      <th>Unnamed: 0</th>\n",
       "      <th>title</th>\n",
       "      <th>text</th>\n",
       "      <th>label</th>\n",
       "    </tr>\n",
       "  </thead>\n",
       "  <tbody>\n",
       "    <tr>\n",
       "      <th>0</th>\n",
       "      <td>False</td>\n",
       "      <td>False</td>\n",
       "      <td>False</td>\n",
       "      <td>False</td>\n",
       "    </tr>\n",
       "    <tr>\n",
       "      <th>1</th>\n",
       "      <td>False</td>\n",
       "      <td>False</td>\n",
       "      <td>False</td>\n",
       "      <td>False</td>\n",
       "    </tr>\n",
       "    <tr>\n",
       "      <th>2</th>\n",
       "      <td>False</td>\n",
       "      <td>False</td>\n",
       "      <td>False</td>\n",
       "      <td>False</td>\n",
       "    </tr>\n",
       "    <tr>\n",
       "      <th>3</th>\n",
       "      <td>False</td>\n",
       "      <td>False</td>\n",
       "      <td>False</td>\n",
       "      <td>False</td>\n",
       "    </tr>\n",
       "    <tr>\n",
       "      <th>4</th>\n",
       "      <td>False</td>\n",
       "      <td>False</td>\n",
       "      <td>False</td>\n",
       "      <td>False</td>\n",
       "    </tr>\n",
       "    <tr>\n",
       "      <th>...</th>\n",
       "      <td>...</td>\n",
       "      <td>...</td>\n",
       "      <td>...</td>\n",
       "      <td>...</td>\n",
       "    </tr>\n",
       "    <tr>\n",
       "      <th>6330</th>\n",
       "      <td>False</td>\n",
       "      <td>False</td>\n",
       "      <td>False</td>\n",
       "      <td>False</td>\n",
       "    </tr>\n",
       "    <tr>\n",
       "      <th>6331</th>\n",
       "      <td>False</td>\n",
       "      <td>False</td>\n",
       "      <td>False</td>\n",
       "      <td>False</td>\n",
       "    </tr>\n",
       "    <tr>\n",
       "      <th>6332</th>\n",
       "      <td>False</td>\n",
       "      <td>False</td>\n",
       "      <td>False</td>\n",
       "      <td>False</td>\n",
       "    </tr>\n",
       "    <tr>\n",
       "      <th>6333</th>\n",
       "      <td>False</td>\n",
       "      <td>False</td>\n",
       "      <td>False</td>\n",
       "      <td>False</td>\n",
       "    </tr>\n",
       "    <tr>\n",
       "      <th>6334</th>\n",
       "      <td>False</td>\n",
       "      <td>False</td>\n",
       "      <td>False</td>\n",
       "      <td>False</td>\n",
       "    </tr>\n",
       "  </tbody>\n",
       "</table>\n",
       "<p>6335 rows × 4 columns</p>\n",
       "</div>"
      ],
      "text/plain": [
       "      Unnamed: 0  title   text  label\n",
       "0          False  False  False  False\n",
       "1          False  False  False  False\n",
       "2          False  False  False  False\n",
       "3          False  False  False  False\n",
       "4          False  False  False  False\n",
       "...          ...    ...    ...    ...\n",
       "6330       False  False  False  False\n",
       "6331       False  False  False  False\n",
       "6332       False  False  False  False\n",
       "6333       False  False  False  False\n",
       "6334       False  False  False  False\n",
       "\n",
       "[6335 rows x 4 columns]"
      ]
     },
     "execution_count": 10,
     "metadata": {},
     "output_type": "execute_result"
    }
   ],
   "source": [
    "df.isnull()"
   ]
  },
  {
   "cell_type": "markdown",
   "id": "008a0bc2",
   "metadata": {
    "papermill": {
     "duration": 0.006195,
     "end_time": "2024-06-26T06:11:22.693740",
     "exception": false,
     "start_time": "2024-06-26T06:11:22.687545",
     "status": "completed"
    },
    "tags": []
   },
   "source": [
    "# Missing Value"
   ]
  },
  {
   "cell_type": "code",
   "execution_count": 11,
   "id": "95101a4a",
   "metadata": {
    "execution": {
     "iopub.execute_input": "2024-06-26T06:11:22.707945Z",
     "iopub.status.busy": "2024-06-26T06:11:22.707574Z",
     "iopub.status.idle": "2024-06-26T06:11:22.716795Z",
     "shell.execute_reply": "2024-06-26T06:11:22.715897Z"
    },
    "papermill": {
     "duration": 0.018615,
     "end_time": "2024-06-26T06:11:22.718789",
     "exception": false,
     "start_time": "2024-06-26T06:11:22.700174",
     "status": "completed"
    },
    "tags": []
   },
   "outputs": [
    {
     "data": {
      "text/plain": [
       "Unnamed: 0    0\n",
       "title         0\n",
       "text          0\n",
       "label         0\n",
       "dtype: int64"
      ]
     },
     "execution_count": 11,
     "metadata": {},
     "output_type": "execute_result"
    }
   ],
   "source": [
    "df.isnull().sum()"
   ]
  },
  {
   "cell_type": "markdown",
   "id": "b256107c",
   "metadata": {
    "papermill": {
     "duration": 0.006206,
     "end_time": "2024-06-26T06:11:22.731519",
     "exception": false,
     "start_time": "2024-06-26T06:11:22.725313",
     "status": "completed"
    },
    "tags": []
   },
   "source": [
    "# how many rows & columns are in the data"
   ]
  },
  {
   "cell_type": "code",
   "execution_count": 12,
   "id": "d62c19a2",
   "metadata": {
    "execution": {
     "iopub.execute_input": "2024-06-26T06:11:22.746399Z",
     "iopub.status.busy": "2024-06-26T06:11:22.746057Z",
     "iopub.status.idle": "2024-06-26T06:11:22.752216Z",
     "shell.execute_reply": "2024-06-26T06:11:22.751280Z"
    },
    "papermill": {
     "duration": 0.015638,
     "end_time": "2024-06-26T06:11:22.754138",
     "exception": false,
     "start_time": "2024-06-26T06:11:22.738500",
     "status": "completed"
    },
    "tags": []
   },
   "outputs": [
    {
     "data": {
      "text/plain": [
       "(6335, 4)"
      ]
     },
     "execution_count": 12,
     "metadata": {},
     "output_type": "execute_result"
    }
   ],
   "source": [
    "df.shape"
   ]
  },
  {
   "cell_type": "code",
   "execution_count": 13,
   "id": "0c634026",
   "metadata": {
    "execution": {
     "iopub.execute_input": "2024-06-26T06:11:22.769192Z",
     "iopub.status.busy": "2024-06-26T06:11:22.768558Z",
     "iopub.status.idle": "2024-06-26T06:11:22.774765Z",
     "shell.execute_reply": "2024-06-26T06:11:22.773851Z"
    },
    "papermill": {
     "duration": 0.016108,
     "end_time": "2024-06-26T06:11:22.776910",
     "exception": false,
     "start_time": "2024-06-26T06:11:22.760802",
     "status": "completed"
    },
    "tags": []
   },
   "outputs": [
    {
     "data": {
      "text/plain": [
       "Index(['Unnamed: 0', 'title', 'text', 'label'], dtype='object')"
      ]
     },
     "execution_count": 13,
     "metadata": {},
     "output_type": "execute_result"
    }
   ],
   "source": [
    "df.columns"
   ]
  },
  {
   "cell_type": "code",
   "execution_count": 14,
   "id": "be861c09",
   "metadata": {
    "execution": {
     "iopub.execute_input": "2024-06-26T06:11:22.792593Z",
     "iopub.status.busy": "2024-06-26T06:11:22.792241Z",
     "iopub.status.idle": "2024-06-26T06:11:22.799673Z",
     "shell.execute_reply": "2024-06-26T06:11:22.798537Z"
    },
    "papermill": {
     "duration": 0.017722,
     "end_time": "2024-06-26T06:11:22.801762",
     "exception": false,
     "start_time": "2024-06-26T06:11:22.784040",
     "status": "completed"
    },
    "tags": []
   },
   "outputs": [],
   "source": [
    "X = df.drop(columns = 'label')\n",
    "Y = df['label']"
   ]
  },
  {
   "cell_type": "markdown",
   "id": "09517fff",
   "metadata": {
    "papermill": {
     "duration": 0.006619,
     "end_time": "2024-06-26T06:11:22.815362",
     "exception": false,
     "start_time": "2024-06-26T06:11:22.808743",
     "status": "completed"
    },
    "tags": []
   },
   "source": [
    "# Stemming"
   ]
  },
  {
   "cell_type": "code",
   "execution_count": 15,
   "id": "5c4fe4eb",
   "metadata": {
    "execution": {
     "iopub.execute_input": "2024-06-26T06:11:22.830777Z",
     "iopub.status.busy": "2024-06-26T06:11:22.830409Z",
     "iopub.status.idle": "2024-06-26T06:11:22.834972Z",
     "shell.execute_reply": "2024-06-26T06:11:22.834010Z"
    },
    "papermill": {
     "duration": 0.014574,
     "end_time": "2024-06-26T06:11:22.836958",
     "exception": false,
     "start_time": "2024-06-26T06:11:22.822384",
     "status": "completed"
    },
    "tags": []
   },
   "outputs": [],
   "source": [
    "stem = PorterStemmer()"
   ]
  },
  {
   "cell_type": "code",
   "execution_count": 16,
   "id": "910dc0a4",
   "metadata": {
    "execution": {
     "iopub.execute_input": "2024-06-26T06:11:22.851774Z",
     "iopub.status.busy": "2024-06-26T06:11:22.851448Z",
     "iopub.status.idle": "2024-06-26T06:11:22.856887Z",
     "shell.execute_reply": "2024-06-26T06:11:22.855899Z"
    },
    "papermill": {
     "duration": 0.015334,
     "end_time": "2024-06-26T06:11:22.859053",
     "exception": false,
     "start_time": "2024-06-26T06:11:22.843719",
     "status": "completed"
    },
    "tags": []
   },
   "outputs": [],
   "source": [
    "def stemming(text):\n",
    "    stem_text = re.sub('[^a-zA-Z]',' ',text)\n",
    "    stem_text = stem_text.lower()\n",
    "    stem_text = stem_text.split()\n",
    "    stem_text = [stem.stem(word) for word in stem_text if not word in stopwords.words('english')] \n",
    "    stem_text = ' '.join(stem_text)\n",
    "    return stem_text"
   ]
  },
  {
   "cell_type": "code",
   "execution_count": 17,
   "id": "f98ccb3a",
   "metadata": {
    "execution": {
     "iopub.execute_input": "2024-06-26T06:11:22.874442Z",
     "iopub.status.busy": "2024-06-26T06:11:22.874072Z",
     "iopub.status.idle": "2024-06-26T06:11:22.878704Z",
     "shell.execute_reply": "2024-06-26T06:11:22.877761Z"
    },
    "papermill": {
     "duration": 0.015044,
     "end_time": "2024-06-26T06:11:22.881037",
     "exception": false,
     "start_time": "2024-06-26T06:11:22.865993",
     "status": "completed"
    },
    "tags": []
   },
   "outputs": [],
   "source": [
    "x = df['text'].values\n",
    "y = df['label'].values"
   ]
  },
  {
   "cell_type": "code",
   "execution_count": 18,
   "id": "4474319f",
   "metadata": {
    "execution": {
     "iopub.execute_input": "2024-06-26T06:11:22.897006Z",
     "iopub.status.busy": "2024-06-26T06:11:22.896279Z",
     "iopub.status.idle": "2024-06-26T06:11:22.905100Z",
     "shell.execute_reply": "2024-06-26T06:11:22.904115Z"
    },
    "papermill": {
     "duration": 0.0189,
     "end_time": "2024-06-26T06:11:22.907129",
     "exception": false,
     "start_time": "2024-06-26T06:11:22.888229",
     "status": "completed"
    },
    "tags": []
   },
   "outputs": [],
   "source": [
    "Xtrain, Xtest,Ytrain,Ytest = train_test_split(X,y,test_size=0.2,random_state=2)"
   ]
  }
 ],
 "metadata": {
  "kaggle": {
   "accelerator": "none",
   "dataSources": [
    {
     "datasetId": 3950844,
     "sourceId": 6875518,
     "sourceType": "datasetVersion"
    }
   ],
   "dockerImageVersionId": 30732,
   "isGpuEnabled": false,
   "isInternetEnabled": true,
   "language": "python",
   "sourceType": "notebook"
  },
  "kernelspec": {
   "display_name": "Python 3",
   "language": "python",
   "name": "python3"
  },
  "language_info": {
   "codemirror_mode": {
    "name": "ipython",
    "version": 3
   },
   "file_extension": ".py",
   "mimetype": "text/x-python",
   "name": "python",
   "nbconvert_exporter": "python",
   "pygments_lexer": "ipython3",
   "version": "3.10.13"
  },
  "papermill": {
   "default_parameters": {},
   "duration": 7.040859,
   "end_time": "2024-06-26T06:11:23.434146",
   "environment_variables": {},
   "exception": null,
   "input_path": "__notebook__.ipynb",
   "output_path": "__notebook__.ipynb",
   "parameters": {},
   "start_time": "2024-06-26T06:11:16.393287",
   "version": "2.5.0"
  }
 },
 "nbformat": 4,
 "nbformat_minor": 5
}
